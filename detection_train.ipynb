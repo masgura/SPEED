{
 "cells": [
  {
   "cell_type": "code",
   "execution_count": null,
   "metadata": {},
   "outputs": [],
   "source": [
    "%pip install pyyaml"
   ]
  },
  {
   "cell_type": "code",
   "execution_count": null,
   "metadata": {},
   "outputs": [],
   "source": [
    "import yaml\n",
    "\n",
    "# Data to be written to the YAML file\n",
    "data = {\n",
    "    'path': '/speed_MS',\n",
    "    'train': 'images/train',\n",
    "    'val': 'images/dev',\n",
    "    'test': 'images/test',\n",
    "    'names': {\n",
    "        0: 'ROI'\n",
    "    }\n",
    "}\n",
    "\n",
    "# Open a file in write mode\n",
    "with open('/speed_MS/speed.yaml', 'w') as file:\n",
    "    # Write the data to the YAML file\n",
    "    yaml.dump(data, file, default_flow_style=False)\n",
    "\n",
    "print(\"YAML file created successfully.\")"
   ]
  },
  {
   "cell_type": "code",
   "execution_count": null,
   "metadata": {},
   "outputs": [],
   "source": [
    "%pip install -q ultralytics"
   ]
  },
  {
   "cell_type": "code",
   "execution_count": null,
   "metadata": {},
   "outputs": [],
   "source": [
    "%load_ext tensorboard\n",
    "%tensorboard --logdir /SLN"
   ]
  },
  {
   "cell_type": "code",
   "execution_count": null,
   "metadata": {},
   "outputs": [],
   "source": [
    "from ultralytics import YOLO\n",
    "\n",
    "model = YOLO(\"yolov8n.pt\")\n",
    "\n",
    "config = dict(\n",
    "    optimizer=\"SGD\",\n",
    "    lr0=1e-3,\n",
    "    momentum=0.9,\n",
    "    weight_decay=1e-5,\n",
    "    imgsz=352,\n",
    "    epochs=250,\n",
    "    single_cls=True,\n",
    "    batch=64,\n",
    "    project=\"SLN\",\n",
    "    mosaic=0.,\n",
    "    )\n",
    "\n",
    "model.train(data=\"/speed_MS/speed.yaml\", **config)"
   ]
  },
  {
   "cell_type": "code",
   "execution_count": null,
   "metadata": {},
   "outputs": [],
   "source": [
    "model.val(data=\"/speed_MS/speed.yaml\", split=\"test\")"
   ]
  },
  {
   "cell_type": "code",
   "execution_count": null,
   "metadata": {},
   "outputs": [],
   "source": [
    "model.export(format=\"openvino\", imgsz=config[\"imgsz\"])"
   ]
  }
 ],
 "metadata": {
  "language_info": {
   "name": "python"
  }
 },
 "nbformat": 4,
 "nbformat_minor": 2
}
